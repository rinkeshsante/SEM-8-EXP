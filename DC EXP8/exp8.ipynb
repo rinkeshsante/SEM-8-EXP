{
 "cells": [
  {
   "cell_type": "code",
   "execution_count": 1,
   "metadata": {},
   "outputs": [],
   "source": [
    "import time\n",
    "from threading import Thread, RLock"
   ]
  },
  {
   "cell_type": "code",
   "execution_count": 2,
   "metadata": {},
   "outputs": [],
   "source": [
    "class Shared:\n",
    "    def __init__(self):\n",
    "        self.lock = RLock()\n",
    "\n",
    "    def test1(self, arg):\n",
    "        with self.lock:\n",
    "            print(\"test 1 begin\")\n",
    "            time.sleep(1)\n",
    "            arg.test2(self)\n",
    "            print(\"test 1 end\")\n",
    "\n",
    "    def test2(self, arg):\n",
    "        with self.lock:\n",
    "            print(\"test 2 begin\")\n",
    "            time.sleep(1)\n",
    "            arg.test1(self)\n",
    "            print(\"test 2 end\")\n",
    "\n",
    "\n",
    "class Thread1(Thread):\n",
    "    def __init__(self,s1,s2):\n",
    "        super().__init__()\n",
    "        self.s1 = s1\n",
    "        self.s2 = s2 \n",
    "\n",
    "    def run(self):\n",
    "        self.s1.test1(self.s2)\n",
    "\n",
    "class Thread2(Thread):\n",
    "    def __init__(self,s1,s2):\n",
    "        super().__init__()\n",
    "        self.s1 = s1\n",
    "        self.s2 = s2 \n",
    "\n",
    "    def run(self):\n",
    "        self.s2.test2(self.s1)"
   ]
  },
  {
   "cell_type": "code",
   "execution_count": 3,
   "metadata": {},
   "outputs": [
    {
     "name": "stdout",
     "output_type": "stream",
     "text": [
      "test 1 begin\n",
      "test 2 begin\n"
     ]
    }
   ],
   "source": [
    "s1 = Shared()\n",
    "s2 = Shared()\n",
    "\n",
    "t1 = Thread1(s1,s2)\n",
    "t1.start()\n",
    "\n",
    "t2 = Thread2(s1,s2)\n",
    "t2.start()\n",
    "\n",
    "time.sleep(2)"
   ]
  },
  {
   "cell_type": "code",
   "execution_count": null,
   "metadata": {},
   "outputs": [],
   "source": []
  }
 ],
 "metadata": {
  "interpreter": {
   "hash": "34280f3e99cdf7b5183810ae50244ddd528a12093561fc5698f1ce0d678e0a37"
  },
  "kernelspec": {
   "display_name": "Python 3.10.0 64-bit",
   "language": "python",
   "name": "python3"
  },
  "language_info": {
   "codemirror_mode": {
    "name": "ipython",
    "version": 3
   },
   "file_extension": ".py",
   "mimetype": "text/x-python",
   "name": "python",
   "nbconvert_exporter": "python",
   "pygments_lexer": "ipython3",
   "version": "3.10.0"
  },
  "orig_nbformat": 4
 },
 "nbformat": 4,
 "nbformat_minor": 2
}
