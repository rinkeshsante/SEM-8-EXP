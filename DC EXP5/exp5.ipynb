{
 "cells": [
  {
   "cell_type": "code",
   "execution_count": 1,
   "metadata": {},
   "outputs": [
    {
     "name": "stdout",
     "output_type": "stream",
     "text": [
      "P0 -> P3\n",
      "[1, 0, 0, 2]\n",
      "P1 -> P2\n",
      "[1, 1, 2, 2]\n",
      "P0 -> P3\n",
      "[2, 1, 2, 3]\n",
      "P1 -> P0\n",
      "[3, 2, 2, 3]\n",
      "P2 -> P0\n",
      "[4, 2, 3, 3]\n",
      "P2 -> P1\n",
      "[4, 5, 4, 3]\n",
      "P1 -> P0\n",
      "[7, 6, 4, 3]\n"
     ]
    }
   ],
   "source": [
    "import random\n",
    "\n",
    "NO_OF_PROCESSES = 4\n",
    "NO_OF_ITERATIONS = 10\n",
    "\n",
    "time = [0]*NO_OF_PROCESSES\n",
    "\n",
    "for _ in range(NO_OF_ITERATIONS):\n",
    "    sender = random.randint(0, NO_OF_PROCESSES-1)\n",
    "    recv = random.randint(0, NO_OF_PROCESSES-1)\n",
    "\n",
    "    if sender == recv:\n",
    "        continue\n",
    "\n",
    "    time[sender] += 1\n",
    "    time[recv] = max(time[sender], time[recv]) + 1\n",
    "\n",
    "    # print(f\"P{sender}[{time[sender]}]->P{recv}[{time[recv]}]\")\n",
    "\n",
    "    print(f\"P{sender} -> P{recv}\")\n",
    "    print(time)\n"
   ]
  },
  {
   "cell_type": "code",
   "execution_count": 2,
   "metadata": {},
   "outputs": [
    {
     "name": "stdout",
     "output_type": "stream",
     "text": [
      "P0 -> P4\n",
      "[[1, 0, 0, 0, 0], [0, 0, 0, 0, 0], [0, 0, 0, 0, 0], [0, 0, 0, 0, 0], [1, 2, 2, 2, 2]]\n",
      "P0 -> P4\n",
      "[[2, 0, 0, 0, 0], [0, 0, 0, 0, 0], [0, 0, 0, 0, 0], [0, 0, 0, 0, 0], [2, 3, 3, 3, 3]]\n",
      "P0 -> P1\n",
      "[[3, 0, 0, 0, 0], [1, 2, 2, 2, 2], [0, 0, 0, 0, 0], [0, 0, 0, 0, 0], [2, 3, 3, 3, 3]]\n",
      "P0 -> P3\n",
      "[[4, 0, 0, 0, 0], [1, 2, 2, 2, 2], [0, 0, 0, 0, 0], [1, 2, 2, 2, 2], [2, 3, 3, 3, 3]]\n",
      "P0 -> P4\n",
      "[[5, 0, 0, 0, 0], [1, 2, 2, 2, 2], [0, 0, 0, 0, 0], [1, 2, 2, 2, 2], [3, 4, 4, 4, 4]]\n",
      "P3 -> P2\n",
      "[[5, 0, 0, 0, 0], [1, 2, 2, 2, 2], [1, 1, 1, 1, 2], [1, 2, 2, 3, 2], [3, 4, 4, 4, 4]]\n",
      "P1 -> P2\n",
      "[[5, 0, 0, 0, 0], [1, 3, 2, 2, 2], [2, 2, 3, 3, 3], [1, 2, 2, 3, 2], [3, 4, 4, 4, 4]]\n",
      "P1 -> P0\n",
      "[[1, 1, 2, 2, 2], [1, 4, 2, 2, 2], [2, 2, 3, 3, 3], [1, 2, 2, 3, 2], [3, 4, 4, 4, 4]]\n",
      "P1 -> P0\n",
      "[[2, 2, 3, 3, 3], [1, 5, 2, 2, 2], [2, 2, 3, 3, 3], [1, 2, 2, 3, 2], [3, 4, 4, 4, 4]]\n",
      "P4 -> P2\n",
      "[[2, 2, 3, 3, 3], [1, 5, 2, 2, 2], [4, 4, 4, 4, 4], [1, 2, 2, 3, 2], [3, 4, 4, 4, 5]]\n",
      "P1 -> P0\n",
      "[[3, 3, 4, 4, 4], [1, 6, 2, 2, 2], [4, 4, 4, 4, 4], [1, 2, 2, 3, 2], [3, 4, 4, 4, 5]]\n",
      "P1 -> P2\n",
      "[[3, 3, 4, 4, 4], [1, 7, 2, 2, 2], [5, 5, 6, 6, 6], [1, 2, 2, 3, 2], [3, 4, 4, 4, 5]]\n",
      "P2 -> P1\n",
      "[[3, 3, 4, 4, 4], [3, 3, 3, 4, 4], [5, 5, 7, 6, 6], [1, 2, 2, 3, 2], [3, 4, 4, 4, 5]]\n",
      "P0 -> P4\n",
      "[[4, 3, 4, 4, 4], [3, 3, 3, 4, 4], [5, 5, 7, 6, 6], [1, 2, 2, 3, 2], [4, 5, 5, 5, 5]]\n",
      "P4 -> P1\n",
      "[[4, 3, 4, 4, 4], [5, 5, 5, 5, 5], [5, 5, 7, 6, 6], [1, 2, 2, 3, 2], [4, 5, 5, 5, 6]]\n",
      "P1 -> P0\n",
      "[[4, 4, 5, 5, 5], [5, 6, 5, 5, 5], [5, 5, 7, 6, 6], [1, 2, 2, 3, 2], [4, 5, 5, 5, 6]]\n",
      "P0 -> P1\n",
      "[[5, 4, 5, 5, 5], [6, 7, 7, 7, 7], [5, 5, 7, 6, 6], [1, 2, 2, 3, 2], [4, 5, 5, 5, 6]]\n",
      "P4 -> P1\n",
      "[[5, 4, 5, 5, 5], [8, 8, 8, 8, 8], [5, 5, 7, 6, 6], [1, 2, 2, 3, 2], [4, 5, 5, 5, 7]]\n",
      "P3 -> P1\n",
      "[[5, 4, 5, 5, 5], [9, 9, 9, 9, 10], [5, 5, 7, 6, 6], [1, 2, 2, 4, 2], [4, 5, 5, 5, 7]]\n"
     ]
    }
   ],
   "source": [
    "import random\n",
    "\n",
    "NO_OF_PROCESSES = 5\n",
    "NO_OF_ITERATIONS = 20\n",
    "\n",
    "time = [[0 for i in range(NO_OF_PROCESSES)]for i in range(NO_OF_PROCESSES)]\n",
    "\n",
    "for _ in range(NO_OF_ITERATIONS):\n",
    "    sender = random.randint(0, NO_OF_PROCESSES-1)\n",
    "    recv = random.randint(0, NO_OF_PROCESSES-1)\n",
    "\n",
    "    if sender == recv:\n",
    "        continue\n",
    "\n",
    "    time[sender][sender] += 1\n",
    "    for i in range(NO_OF_PROCESSES):\n",
    "        time[recv][i] = max(time[recv][sender], time[recv][sender])+1\n",
    "\n",
    "    # print(f\"P{sender}[{time[sender]} -> P{recv}[{time[recv]}\")\n",
    "    print(f\"P{sender} -> P{recv}\")\n",
    "    print(time)\n"
   ]
  },
  {
   "cell_type": "code",
   "execution_count": null,
   "metadata": {},
   "outputs": [],
   "source": []
  }
 ],
 "metadata": {
  "interpreter": {
   "hash": "d1e27d8da1f821af1af57f8a57c97012bce8122be44525411b4c0a9531cc4f15"
  },
  "kernelspec": {
   "display_name": "Python 3.10.0 ('env': venv)",
   "language": "python",
   "name": "python3"
  },
  "language_info": {
   "codemirror_mode": {
    "name": "ipython",
    "version": 3
   },
   "file_extension": ".py",
   "mimetype": "text/x-python",
   "name": "python",
   "nbconvert_exporter": "python",
   "pygments_lexer": "ipython3",
   "version": "3.10.0"
  },
  "orig_nbformat": 4
 },
 "nbformat": 4,
 "nbformat_minor": 2
}
