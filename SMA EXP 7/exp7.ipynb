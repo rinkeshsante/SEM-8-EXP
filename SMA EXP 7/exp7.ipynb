{
 "cells": [
  {
   "cell_type": "code",
   "execution_count": 1,
   "metadata": {},
   "outputs": [],
   "source": [
    "l1 = [\"no\", \"high\", \"no\", \"low\", \"only\", \"doge\"]\n",
    "l2 = [\"one\", \"word\", \"doge\"]"
   ]
  },
  {
   "cell_type": "markdown",
   "metadata": {},
   "source": [
    "Jaccard Similarity"
   ]
  },
  {
   "cell_type": "code",
   "execution_count": 2,
   "metadata": {},
   "outputs": [
    {
     "data": {
      "text/plain": [
       "0.14285714285714285"
      ]
     },
     "execution_count": 2,
     "metadata": {},
     "output_type": "execute_result"
    }
   ],
   "source": [
    "def jaccard_similarity(a, b):\n",
    "    a = set(a)\n",
    "    b = set(b)\n",
    "    j = float(len(a.intersection(b))) / len(a.union(b))\n",
    "    return j\n",
    "\n",
    "jaccard_similarity(l1, l2)"
   ]
  },
  {
   "cell_type": "code",
   "execution_count": 3,
   "metadata": {},
   "outputs": [
    {
     "data": {
      "text/plain": [
       "0.8571428571428572"
      ]
     },
     "execution_count": 3,
     "metadata": {},
     "output_type": "execute_result"
    }
   ],
   "source": [
    "def juccard_distance(a,b):\n",
    "    return 1- jaccard_similarity(a,b)\n",
    "\n",
    "juccard_distance(l1,l2)"
   ]
  },
  {
   "cell_type": "markdown",
   "metadata": {},
   "source": [
    "Common Neighbour"
   ]
  },
  {
   "cell_type": "code",
   "execution_count": 4,
   "metadata": {},
   "outputs": [
    {
     "data": {
      "text/plain": [
       "1"
      ]
     },
     "execution_count": 4,
     "metadata": {},
     "output_type": "execute_result"
    }
   ],
   "source": [
    "def common_neighbor(a,b):\n",
    "    a = set(a)\n",
    "    b = set(b)\n",
    "\n",
    "    return len( a.intersection(b))\n",
    "\n",
    "common_neighbor(l1,l2)"
   ]
  }
 ],
 "metadata": {
  "interpreter": {
   "hash": "34280f3e99cdf7b5183810ae50244ddd528a12093561fc5698f1ce0d678e0a37"
  },
  "kernelspec": {
   "display_name": "Python 3.10.0 64-bit",
   "language": "python",
   "name": "python3"
  },
  "language_info": {
   "codemirror_mode": {
    "name": "ipython",
    "version": 3
   },
   "file_extension": ".py",
   "mimetype": "text/x-python",
   "name": "python",
   "nbconvert_exporter": "python",
   "pygments_lexer": "ipython3",
   "version": "3.10.0"
  },
  "orig_nbformat": 4
 },
 "nbformat": 4,
 "nbformat_minor": 2
}
