{
 "cells": [
  {
   "cell_type": "code",
   "execution_count": 2,
   "metadata": {},
   "outputs": [
    {
     "name": "stdout",
     "output_type": "stream",
     "text": [
      "server0\tserver1\tserver2\t\n",
      "0\t\t0\t\t1\t\t\n",
      "1\t\t0\t\t1\t\t\n",
      "1\t\t0\t\t2\t\t\n",
      "1\t\t0\t\t3\t\t\n",
      "2\t\t0\t\t3\t\t\n",
      "2\t\t1\t\t3\t\t\n",
      "2\t\t1\t\t4\t\t\n",
      "2\t\t2\t\t4\t\t\n",
      "2\t\t3\t\t4\t\t\n",
      "2\t\t4\t\t4\t\t\n",
      "2\t\t4\t\t5\t\t\n",
      "2\t\t5\t\t5\t\t\n",
      "3\t\t5\t\t5\t\t\n",
      "4\t\t5\t\t5\t\t\n",
      "5\t\t5\t\t5\t\t\n",
      "Stopping...\n"
     ]
    }
   ],
   "source": [
    "import time\n",
    "import random\n",
    "import os\n",
    "\n",
    "no_of_servers = int(input(\"Enter No of servsers : \"))\n",
    "threshold = int(input(\"Threshold for servers : \"))\n",
    "servers = [0] * no_of_servers\n",
    "\n",
    "for i in range(no_of_servers):\n",
    "    print(f\"server{i}\\t\", end=\"\")\n",
    "print()\n",
    "\n",
    "while True:\n",
    "    server_no = random.randint(0, no_of_servers-1)\n",
    "    if servers[server_no] >= threshold:\n",
    "        if servers == [threshold] * no_of_servers:\n",
    "            print(\"Stopping...\")\n",
    "            break\n",
    "        continue\n",
    "    # os.system(\"cls\")\n",
    "    servers[server_no] += 1\n",
    "    \n",
    "    for i in range(no_of_servers):\n",
    "        print(f\"{servers[i]}\\t\\t\", end=\"\")\n",
    "    print()\n",
    "    time.sleep(.1)\n"
   ]
  },
  {
   "cell_type": "code",
   "execution_count": null,
   "metadata": {},
   "outputs": [],
   "source": []
  }
 ],
 "metadata": {
  "interpreter": {
   "hash": "34280f3e99cdf7b5183810ae50244ddd528a12093561fc5698f1ce0d678e0a37"
  },
  "kernelspec": {
   "display_name": "Python 3.10.0 64-bit",
   "language": "python",
   "name": "python3"
  },
  "language_info": {
   "codemirror_mode": {
    "name": "ipython",
    "version": 3
   },
   "file_extension": ".py",
   "mimetype": "text/x-python",
   "name": "python",
   "nbconvert_exporter": "python",
   "pygments_lexer": "ipython3",
   "version": "3.10.0"
  },
  "orig_nbformat": 4
 },
 "nbformat": 4,
 "nbformat_minor": 2
}
