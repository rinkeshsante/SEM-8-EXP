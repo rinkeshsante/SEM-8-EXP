{
 "cells": [
  {
   "cell_type": "code",
   "execution_count": null,
   "metadata": {},
   "outputs": [],
   "source": [
    "# bullying Algo\n",
    "from threading import Thread\n",
    "from multiprocessing.connection import Client\n",
    "\n",
    "addreses = []\n",
    "\n",
    "class MyProcess(Thread):\n",
    "    processs = set()\n",
    "    def __init__(self,id,address):\n",
    "        self.id = id\n",
    "        self.address = address\n",
    "\n",
    "    def announce(self, msg):\n",
    "        print(\"[{}]: {}\".format(self.name,msg))\n",
    "    \n",
    "    def checkCoordinator(self,new_id):\n",
    "        if \n"
   ]
  }
 ],
 "metadata": {
  "language_info": {
   "name": "python"
  },
  "orig_nbformat": 4
 },
 "nbformat": 4,
 "nbformat_minor": 2
}
