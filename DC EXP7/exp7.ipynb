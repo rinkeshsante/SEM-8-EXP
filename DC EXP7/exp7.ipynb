{
 "cells": [
  {
   "cell_type": "markdown",
   "metadata": {},
   "source": [
    "Bully Algo"
   ]
  },
  {
   "cell_type": "code",
   "execution_count": 13,
   "metadata": {},
   "outputs": [],
   "source": [
    "def MyInput(smg):\n",
    "    print(smg, end =\"\")\n",
    "    ans = input()\n",
    "    print(ans)\n",
    "    return ans"
   ]
  },
  {
   "cell_type": "markdown",
   "metadata": {},
   "source": [
    "Ring Algo"
   ]
  },
  {
   "cell_type": "code",
   "execution_count": 14,
   "metadata": {},
   "outputs": [
    {
     "name": "stdout",
     "output_type": "stream",
     "text": [
      "For Process 1:\n",
      "Status: 1\n",
      "For Process 2:\n",
      "Status: 1\n",
      "For Process 3:\n",
      "Status: 1\n",
      "For Process 4:\n",
      "Status: 1\n",
      "For Process 5:\n",
      "Status: 1\n",
      "For Process 6:\n",
      "Status: 1\n",
      "For Process 7:\n",
      "Status: 0\n",
      "Which process will initiate election? 1\n",
      "Election message is sent from 1 to 2\n",
      "Election message is sent from 3 to 4\n",
      "Election message is sent from 5 to 6\n",
      "Election message is sent from 5 to 7\n",
      "Election message is sent from 3 to 5\n",
      "Election message is sent from 6 to 7\n",
      "Election message is sent from 3 to 6\n",
      "Election message is sent from 3 to 7\n",
      "Election message is sent from 1 to 3\n",
      "Election message is sent from 4 to 5\n",
      "Election message is sent from 6 to 7\n",
      "Election message is sent from 4 to 6\n",
      "Election message is sent from 4 to 7\n",
      "Election message is sent from 1 to 4\n",
      "Election message is sent from 5 to 6\n",
      "Election message is sent from 5 to 7\n",
      "Election message is sent from 1 to 5\n",
      "Election message is sent from 6 to 7\n",
      "Election message is sent from 1 to 6\n",
      "Election message is sent from 1 to 7\n",
      "Final coordinator: 6\n"
     ]
    }
   ],
   "source": [
    "coordinator = 0\n",
    "n = int(input((\"Enter the number of process: \")))\n",
    "status = []\n",
    "priority = []\n",
    "\n",
    "\n",
    "def Bulley(initiator):\n",
    "    global coordinator\n",
    "    coordinator = initiator\n",
    "\n",
    "    for i in range(n):\n",
    "        if priority[initiator] < priority[i]:\n",
    "            print(f\"Election message is sent from {initiator+1} to {i+1}\")\n",
    "            if status[i] == 1 and i < n:\n",
    "                Bulley(i + 1)\n",
    "\n",
    "\n",
    "for i in range(n):\n",
    "    print(f\"For Process {i+1}:\")\n",
    "    status.append(int(MyInput(\"Status: \")))\n",
    "    priority.append(i+1)\n",
    "initiator = int(MyInput(\"Which process will initiate election? \"))\n",
    "Bulley(initiator-1)\n",
    "print(f\"Final coordinator: {coordinator}\")\n"
   ]
  },
  {
   "cell_type": "code",
   "execution_count": 15,
   "metadata": {},
   "outputs": [
    {
     "name": "stdout",
     "output_type": "stream",
     "text": [
      "Enter no. of process: 7\n",
      "Enter Status of process 1: 1\n",
      "Enter Status of process 2: 0\n",
      "Enter Status of process 3: 1\n",
      "Enter Status of process 4: 1\n",
      "Enter Status of process 5: 0\n",
      "Enter Status of process 6: 1\n",
      "Enter Status of process 7: 1\n",
      "Coordinator is 7\n"
     ]
    }
   ],
   "source": [
    "node = []\n",
    "status = []\n",
    "election = []\n",
    "\n",
    "n = int(MyInput(\"Enter no. of process: \"))\n",
    "for i in range(n):\n",
    "    node.append(i + 1)\n",
    "    status.append(int(MyInput(f\"Enter Status of process {i+1}: \")))\n",
    "\n",
    "for i in range(len(node)):\n",
    "    if status[i] != 0:\n",
    "        election.append(node[i])\n",
    "\n",
    "print(f\"Coordinator is {max(election)}\")\n"
   ]
  }
 ],
 "metadata": {
  "interpreter": {
   "hash": "34280f3e99cdf7b5183810ae50244ddd528a12093561fc5698f1ce0d678e0a37"
  },
  "kernelspec": {
   "display_name": "Python 3.10.0 64-bit",
   "language": "python",
   "name": "python3"
  },
  "language_info": {
   "codemirror_mode": {
    "name": "ipython",
    "version": 3
   },
   "file_extension": ".py",
   "mimetype": "text/x-python",
   "name": "python",
   "nbconvert_exporter": "python",
   "pygments_lexer": "ipython3",
   "version": "3.10.0"
  },
  "orig_nbformat": 4
 },
 "nbformat": 4,
 "nbformat_minor": 2
}
