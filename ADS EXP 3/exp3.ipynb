{
 "cells": [
  {
   "cell_type": "code",
   "execution_count": 1,
   "metadata": {},
   "outputs": [],
   "source": [
    "import pandas as pd\n",
    "from sklearn.linear_model import LinearRegression\n",
    "from sklearn.model_selection import train_test_split\n",
    "import matplotlib.pyplot as plt\n",
    "import seaborn as sb\n",
    "import numpy as np"
   ]
  },
  {
   "cell_type": "code",
   "execution_count": 2,
   "metadata": {},
   "outputs": [
    {
     "data": {
      "text/html": [
       "<div>\n",
       "<style scoped>\n",
       "    .dataframe tbody tr th:only-of-type {\n",
       "        vertical-align: middle;\n",
       "    }\n",
       "\n",
       "    .dataframe tbody tr th {\n",
       "        vertical-align: top;\n",
       "    }\n",
       "\n",
       "    .dataframe thead th {\n",
       "        text-align: right;\n",
       "    }\n",
       "</style>\n",
       "<table border=\"1\" class=\"dataframe\">\n",
       "  <thead>\n",
       "    <tr style=\"text-align: right;\">\n",
       "      <th></th>\n",
       "      <th>Unnamed: 0</th>\n",
       "      <th>IST</th>\n",
       "      <th>Pressure</th>\n",
       "      <th>Extrenal_temp</th>\n",
       "      <th>Internal_temp</th>\n",
       "      <th>Humidity</th>\n",
       "      <th>Volatge</th>\n",
       "      <th>GMT</th>\n",
       "      <th>Latitude</th>\n",
       "      <th>n/s</th>\n",
       "      <th>Longitude</th>\n",
       "      <th>e/w</th>\n",
       "      <th>No. of Satellites</th>\n",
       "      <th>Altitude</th>\n",
       "    </tr>\n",
       "  </thead>\n",
       "  <tbody>\n",
       "    <tr>\n",
       "      <th>0</th>\n",
       "      <td>0</td>\n",
       "      <td>16:27:34</td>\n",
       "      <td>989.9</td>\n",
       "      <td>16.54</td>\n",
       "      <td>18.4</td>\n",
       "      <td>55.2</td>\n",
       "      <td>8.5</td>\n",
       "      <td>_</td>\n",
       "      <td>_</td>\n",
       "      <td>_</td>\n",
       "      <td>_</td>\n",
       "      <td>_</td>\n",
       "      <td>5</td>\n",
       "      <td>267.4</td>\n",
       "    </tr>\n",
       "    <tr>\n",
       "      <th>1</th>\n",
       "      <td>1</td>\n",
       "      <td>16:27:34</td>\n",
       "      <td>989.8</td>\n",
       "      <td>16.68</td>\n",
       "      <td>18.4</td>\n",
       "      <td>55.1</td>\n",
       "      <td>8.5</td>\n",
       "      <td>_</td>\n",
       "      <td>_</td>\n",
       "      <td>_</td>\n",
       "      <td>_</td>\n",
       "      <td>_</td>\n",
       "      <td>5</td>\n",
       "      <td>267.4</td>\n",
       "    </tr>\n",
       "    <tr>\n",
       "      <th>2</th>\n",
       "      <td>2</td>\n",
       "      <td>16:27:36</td>\n",
       "      <td>989.9</td>\n",
       "      <td>16.54</td>\n",
       "      <td>18.4</td>\n",
       "      <td>55.2</td>\n",
       "      <td>8.5</td>\n",
       "      <td>10:57:34</td>\n",
       "      <td>28.803999</td>\n",
       "      <td>n</td>\n",
       "      <td>77.211166</td>\n",
       "      <td>e</td>\n",
       "      <td>4</td>\n",
       "      <td>269.5</td>\n",
       "    </tr>\n",
       "    <tr>\n",
       "      <th>3</th>\n",
       "      <td>3</td>\n",
       "      <td>16:27:36</td>\n",
       "      <td>989.9</td>\n",
       "      <td>16.61</td>\n",
       "      <td>18.4</td>\n",
       "      <td>55.4</td>\n",
       "      <td>8.5</td>\n",
       "      <td>10:57:35</td>\n",
       "      <td>28.803999</td>\n",
       "      <td>n</td>\n",
       "      <td>77.211166</td>\n",
       "      <td>e</td>\n",
       "      <td>4</td>\n",
       "      <td>269.5</td>\n",
       "    </tr>\n",
       "    <tr>\n",
       "      <th>4</th>\n",
       "      <td>4</td>\n",
       "      <td>16:27:37</td>\n",
       "      <td>989.9</td>\n",
       "      <td>16.68</td>\n",
       "      <td>18.4</td>\n",
       "      <td>55.6</td>\n",
       "      <td>8.5</td>\n",
       "      <td>_</td>\n",
       "      <td>_</td>\n",
       "      <td>_</td>\n",
       "      <td>_</td>\n",
       "      <td>_</td>\n",
       "      <td>4</td>\n",
       "      <td>269.5</td>\n",
       "    </tr>\n",
       "  </tbody>\n",
       "</table>\n",
       "</div>"
      ],
      "text/plain": [
       "   Unnamed: 0       IST  Pressure  Extrenal_temp  Internal_temp  Humidity  \\\n",
       "0           0  16:27:34     989.9          16.54           18.4      55.2   \n",
       "1           1  16:27:34     989.8          16.68           18.4      55.1   \n",
       "2           2  16:27:36     989.9          16.54           18.4      55.2   \n",
       "3           3  16:27:36     989.9          16.61           18.4      55.4   \n",
       "4           4  16:27:37     989.9          16.68           18.4      55.6   \n",
       "\n",
       "   Volatge       GMT   Latitude n/s  Longitude e/w No. of Satellites Altitude  \n",
       "0      8.5         _          _   _          _   _                 5    267.4  \n",
       "1      8.5         _          _   _          _   _                 5    267.4  \n",
       "2      8.5  10:57:34  28.803999   n  77.211166   e                 4    269.5  \n",
       "3      8.5  10:57:35  28.803999   n  77.211166   e                 4    269.5  \n",
       "4      8.5         _          _   _          _   _                 4    269.5  "
      ]
     },
     "execution_count": 2,
     "metadata": {},
     "output_type": "execute_result"
    }
   ],
   "source": [
    "df = pd.read_csv(\"data.csv\", na_values=[\"NaN\",])\n",
    "# df.dropna(axis=0,inplace=True)\n",
    "df.head()"
   ]
  },
  {
   "cell_type": "code",
   "execution_count": 3,
   "metadata": {},
   "outputs": [
    {
     "data": {
      "text/html": [
       "<div>\n",
       "<style scoped>\n",
       "    .dataframe tbody tr th:only-of-type {\n",
       "        vertical-align: middle;\n",
       "    }\n",
       "\n",
       "    .dataframe tbody tr th {\n",
       "        vertical-align: top;\n",
       "    }\n",
       "\n",
       "    .dataframe thead th {\n",
       "        text-align: right;\n",
       "    }\n",
       "</style>\n",
       "<table border=\"1\" class=\"dataframe\">\n",
       "  <thead>\n",
       "    <tr style=\"text-align: right;\">\n",
       "      <th></th>\n",
       "      <th>Pressure</th>\n",
       "      <th>Extrenal_temp</th>\n",
       "      <th>Internal_temp</th>\n",
       "      <th>Humidity</th>\n",
       "      <th>Volatge</th>\n",
       "    </tr>\n",
       "  </thead>\n",
       "  <tbody>\n",
       "    <tr>\n",
       "      <th>0</th>\n",
       "      <td>989.9</td>\n",
       "      <td>16.54</td>\n",
       "      <td>18.4</td>\n",
       "      <td>55.2</td>\n",
       "      <td>8.5</td>\n",
       "    </tr>\n",
       "    <tr>\n",
       "      <th>1</th>\n",
       "      <td>989.8</td>\n",
       "      <td>16.68</td>\n",
       "      <td>18.4</td>\n",
       "      <td>55.1</td>\n",
       "      <td>8.5</td>\n",
       "    </tr>\n",
       "    <tr>\n",
       "      <th>2</th>\n",
       "      <td>989.9</td>\n",
       "      <td>16.54</td>\n",
       "      <td>18.4</td>\n",
       "      <td>55.2</td>\n",
       "      <td>8.5</td>\n",
       "    </tr>\n",
       "    <tr>\n",
       "      <th>3</th>\n",
       "      <td>989.9</td>\n",
       "      <td>16.61</td>\n",
       "      <td>18.4</td>\n",
       "      <td>55.4</td>\n",
       "      <td>8.5</td>\n",
       "    </tr>\n",
       "    <tr>\n",
       "      <th>4</th>\n",
       "      <td>989.9</td>\n",
       "      <td>16.68</td>\n",
       "      <td>18.4</td>\n",
       "      <td>55.6</td>\n",
       "      <td>8.5</td>\n",
       "    </tr>\n",
       "  </tbody>\n",
       "</table>\n",
       "</div>"
      ],
      "text/plain": [
       "   Pressure  Extrenal_temp  Internal_temp  Humidity  Volatge\n",
       "0     989.9          16.54           18.4      55.2      8.5\n",
       "1     989.8          16.68           18.4      55.1      8.5\n",
       "2     989.9          16.54           18.4      55.2      8.5\n",
       "3     989.9          16.61           18.4      55.4      8.5\n",
       "4     989.9          16.68           18.4      55.6      8.5"
      ]
     },
     "execution_count": 3,
     "metadata": {},
     "output_type": "execute_result"
    }
   ],
   "source": [
    "data_copy = df[[\"Pressure\",\"Extrenal_temp\",\"Internal_temp\",\"Humidity\",\"Volatge\"]]\n",
    "data_copy.head()"
   ]
  },
  {
   "cell_type": "code",
   "execution_count": 4,
   "metadata": {},
   "outputs": [
    {
     "data": {
      "text/plain": [
       "<AxesSubplot:>"
      ]
     },
     "execution_count": 4,
     "metadata": {},
     "output_type": "execute_result"
    },
    {
     "data": {
      "image/png": "[encoded data removed]",
      "text/plain": [
       "<Figure size 432x288 with 2 Axes>"
      ]
     },
     "metadata": {
      "needs_background": "light"
     },
     "output_type": "display_data"
    }
   ],
   "source": [
    "sb.heatmap(data_copy.corr())"
   ]
  },
  {
   "cell_type": "code",
   "execution_count": 5,
   "metadata": {},
   "outputs": [],
   "source": [
    "# lets use the correlation between pressure and external_temp\n",
    "\n",
    "X = np.array(df[\"Pressure\"]).reshape(-1,1)\n",
    "y = np.array(df[\"Extrenal_temp\"]).reshape(-1,1)\n",
    "\n",
    "X_train, X_test, y_train, y_test = train_test_split(X, y, test_size = 0.25)\n"
   ]
  },
  {
   "cell_type": "code",
   "execution_count": 6,
   "metadata": {},
   "outputs": [
    {
     "data": {
      "text/plain": [
       "0.9827807238460339"
      ]
     },
     "execution_count": 6,
     "metadata": {},
     "output_type": "execute_result"
    }
   ],
   "source": [
    "reg = LinearRegression()\n",
    "reg.fit(X_train,y_train)\n",
    "reg.score(X_test,y_test)"
   ]
  },
  {
   "cell_type": "code",
   "execution_count": 7,
   "metadata": {},
   "outputs": [
    {
     "data": {
      "text/plain": [
       "[<matplotlib.lines.Line2D at 0x192cab72b90>]"
      ]
     },
     "execution_count": 7,
     "metadata": {},
     "output_type": "execute_result"
    },
    {
     "data": {
      "image/png": "[encoded data removed]",
      "text/plain": [
       "<Figure size 432x288 with 1 Axes>"
      ]
     },
     "metadata": {
      "needs_background": "light"
     },
     "output_type": "display_data"
    }
   ],
   "source": [
    "plt.plot(df[\"Pressure\"],df[\"Extrenal_temp\"])"
   ]
  },
  {
   "cell_type": "code",
   "execution_count": null,
   "metadata": {},
   "outputs": [],
   "source": []
  },
  {
   "cell_type": "code",
   "execution_count": null,
   "metadata": {},
   "outputs": [],
   "source": []
  }
 ],
 "metadata": {
  "interpreter": {
   "hash": "34280f3e99cdf7b5183810ae50244ddd528a12093561fc5698f1ce0d678e0a37"
  },
  "kernelspec": {
   "display_name": "Python 3.10.0 64-bit",
   "language": "python",
   "name": "python3"
  },
  "language_info": {
   "codemirror_mode": {
    "name": "ipython",
    "version": 3
   },
   "file_extension": ".py",
   "mimetype": "text/x-python",
   "name": "python",
   "nbconvert_exporter": "python",
   "pygments_lexer": "ipython3",
   "version": "3.10.0"
  },
  "orig_nbformat": 4
 },
 "nbformat": 4,
 "nbformat_minor": 2
}
