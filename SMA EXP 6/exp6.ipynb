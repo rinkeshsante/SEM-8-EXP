{
 "cells": [
  {
   "cell_type": "code",
   "execution_count": 10,
   "metadata": {},
   "outputs": [],
   "source": [
    "graph = [[ 0, 1,  0,  1, 1,  0],\n",
    "       [1,  0,  1, 1,  0,  1],\n",
    "       [ 0,  1,  0,  0, 1,  1],\n",
    "       [ 1, 1,  0,  0,  1, 1],\n",
    "       [1,  0, 1,  1,  0,  1],\n",
    "       [ 0,  1,  1, 1,  1,  0]]"
   ]
  },
  {
   "cell_type": "code",
   "execution_count": 11,
   "metadata": {},
   "outputs": [
    {
     "name": "stdout",
     "output_type": "stream",
     "text": [
      "[[0, 1, 0, 1, 1, 0], [1, 0, 1, 1, 0, 1], [0, 1, 0, 0, 1, 1], [1, 1, 0, 0, 1, 1], [1, 0, 1, 1, 0, 1], [0, 1, 1, 1, 1, 0]]\n"
     ]
    }
   ],
   "source": [
    "print(graph)"
   ]
  },
  {
   "cell_type": "code",
   "execution_count": 12,
   "metadata": {},
   "outputs": [],
   "source": [
    "class DegreeCentrality:\n",
    "    @staticmethod\n",
    "    def degreeCentralityIn(graph:list,node:int):\n",
    "        return sum(graph[node-1])\n",
    "    \n",
    "    @staticmethod\n",
    "    def degreeCentralityOut(graph:list,node:int):\n",
    "        sum =0\n",
    "        for row in graph:\n",
    "            sum+=row[node-1]\n",
    "        return sum\n",
    "    \n",
    "    @staticmethod\n",
    "    def degreeCentrality(graph:list,node:int):\n",
    "        return DegreeCentrality.degreeCentralityIn(graph,node)+DegreeCentrality.degreeCentralityOut(graph,node)"
   ]
  },
  {
   "cell_type": "code",
   "execution_count": 13,
   "metadata": {},
   "outputs": [
    {
     "name": "stdout",
     "output_type": "stream",
     "text": [
      "4\n",
      "4\n",
      "8\n"
     ]
    }
   ],
   "source": [
    "print(DegreeCentrality.degreeCentralityIn(graph,2))\n",
    "print(DegreeCentrality.degreeCentralityOut(graph,2))\n",
    "print(DegreeCentrality.degreeCentrality(graph,2))"
   ]
  },
  {
   "cell_type": "code",
   "execution_count": null,
   "metadata": {},
   "outputs": [],
   "source": []
  }
 ],
 "metadata": {
  "interpreter": {
   "hash": "34280f3e99cdf7b5183810ae50244ddd528a12093561fc5698f1ce0d678e0a37"
  },
  "kernelspec": {
   "display_name": "Python 3.10.0 64-bit",
   "language": "python",
   "name": "python3"
  },
  "language_info": {
   "codemirror_mode": {
    "name": "ipython",
    "version": 3
   },
   "file_extension": ".py",
   "mimetype": "text/x-python",
   "name": "python",
   "nbconvert_exporter": "python",
   "pygments_lexer": "ipython3",
   "version": "3.10.0"
  },
  "orig_nbformat": 4
 },
 "nbformat": 4,
 "nbformat_minor": 2
}
