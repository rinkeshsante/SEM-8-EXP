{
 "cells": [
  {
   "cell_type": "code",
   "execution_count": 25,
   "metadata": {},
   "outputs": [],
   "source": [
    "import numpy as np\n",
    "from sklearn.decomposition import TruncatedSVD"
   ]
  },
  {
   "cell_type": "code",
   "execution_count": 26,
   "metadata": {},
   "outputs": [
    {
     "name": "stdout",
     "output_type": "stream",
     "text": [
      "A [[3 4 3]\n",
      " [1 2 3]\n",
      " [4 2 1]]\n",
      "\n",
      "U\n",
      "[[-0.73553325 -0.18392937 -0.65204358]\n",
      " [-0.42657919 -0.62196982  0.65664582]\n",
      " [-0.52632788  0.76113306  0.37901904]]\n",
      "\n",
      "D\n",
      "[7.87764972 2.54031671 0.69958986]\n",
      "\n",
      "VT\n",
      "[[-0.60151068 -0.61540527 -0.5093734 ]\n",
      " [ 0.73643349 -0.18005275 -0.65210944]\n",
      " [ 0.30959751 -0.76737042  0.5615087 ]]\n"
     ]
    }
   ],
   "source": [
    "A = np.array([[3,4,3],[1,2,3],[4,2,1]])\n",
    "\n",
    "U, D, VT = np.linalg.svd(A)\n",
    "U,D,VT\n",
    "\n",
    "print(\"A\",A)\n",
    "\n",
    "\n",
    "print(f\"\\nU\\n{U}\\n\\nD\\n{D}\\n\\nVT\\n{VT}\")"
   ]
  },
  {
   "cell_type": "code",
   "execution_count": 27,
   "metadata": {},
   "outputs": [
    {
     "name": "stdout",
     "output_type": "stream",
     "text": [
      "U . diag(D) . VT \n",
      " [[3. 4. 3.]\n",
      " [1. 2. 3.]\n",
      " [4. 2. 1.]]\n"
     ]
    }
   ],
   "source": [
    "op = U.dot(np.diag(D)).dot(VT)\n",
    "\n",
    "print(f\"U . diag(D) . VT \\n {op}\")"
   ]
  },
  {
   "cell_type": "code",
   "execution_count": 37,
   "metadata": {},
   "outputs": [
    {
     "data": {
      "text/plain": [
       "array([[ 5.7942733 , -0.46723885],\n",
       "       [ 3.3604414 , -1.58000033],\n",
       "       [ 4.14622666,  1.93351902]])"
      ]
     },
     "execution_count": 37,
     "metadata": {},
     "output_type": "execute_result"
    }
   ],
   "source": [
    "# transformation matrix with skelarn.decompose.TruncatedSVD\n",
    "TruncatedSVD(n_components=2).fit_transform(A)"
   ]
  },
  {
   "cell_type": "code",
   "execution_count": null,
   "metadata": {},
   "outputs": [],
   "source": []
  },
  {
   "cell_type": "code",
   "execution_count": null,
   "metadata": {},
   "outputs": [],
   "source": []
  }
 ],
 "metadata": {
  "interpreter": {
   "hash": "d1e27d8da1f821af1af57f8a57c97012bce8122be44525411b4c0a9531cc4f15"
  },
  "kernelspec": {
   "display_name": "Python 3.10.0 ('env': venv)",
   "language": "python",
   "name": "python3"
  },
  "language_info": {
   "codemirror_mode": {
    "name": "ipython",
    "version": 3
   },
   "file_extension": ".py",
   "mimetype": "text/x-python",
   "name": "python",
   "nbconvert_exporter": "python",
   "pygments_lexer": "ipython3",
   "version": "3.10.0"
  },
  "orig_nbformat": 4
 },
 "nbformat": 4,
 "nbformat_minor": 2
}
