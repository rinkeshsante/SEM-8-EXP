{
 "cells": [
  {
   "cell_type": "markdown",
   "metadata": {},
   "source": [
    "Token Based: Suzuki Kasami Algorithm"
   ]
  },
  {
   "cell_type": "code",
   "execution_count": null,
   "metadata": {},
   "outputs": [
    {
     "ename": "",
     "evalue": "",
     "output_type": "error",
     "traceback": [
      "\u001b[1;31mThe file '.\\DC EXP9\\token.py' seems to be overriding built in modules and interfering with the startup of the kernel. Consider renaming the file and starting the kernel again.\n",
      "Click <a href='https://aka.ms/kernelFailuresOverridingBuiltInModules'>here</a> for more info."
     ]
    }
   ],
   "source": [
    "from time import sleep\n",
    "from mpi4py import MPI\n",
    "import random\n",
    "from heapq import *\n",
    "from collections import deque\n",
    "\n",
    "comm = MPI.COMM_WORLD\n",
    "size = comm.Get_size()\n",
    "rank = comm.Get_rank()\n",
    "\n",
    "local_time = 0\n",
    "\n",
    "\n",
    "def update_local_time(new_timestamp):\n",
    "    global local_time\n",
    "    local_time = max(local_time + 1, new_timestamp + 1)\n",
    "\n",
    "\n",
    "class SuzukiKasami:\n",
    "    def __init__(self):\n",
    "        self.rn = [0 for i in range(size)]\n",
    "        self.token = None\n",
    "        self.REQUESTED = False\n",
    "        if rank == 0:\n",
    "            self.token = ([0 for i in range(size)], deque())\n",
    "\n",
    "    def loop_node(self):\n",
    "        req = comm.irecv()\n",
    "        while True:\n",
    "            if not self.REQUESTED and random.random() < 0.2:\n",
    "                self.REQUESTED = True\n",
    "                self.request()\n",
    "            data = req.test()\n",
    "            if data[0] == True:\n",
    "                req = comm.irecv()\n",
    "            if self.REQUESTED and self.token is not None:\n",
    "                self.REQUESTED = False\n",
    "                self.exec_cs()\n",
    "                self.token[0][rank] = self.rn[rank]\n",
    "                for j in range(size):\n",
    "                    if self.rn[j] == self.token[0][j] + 1:\n",
    "                        if j not in self.token[1]:\n",
    "                            self.token[1].append(j)\n",
    "                if len(self.token[1]) != 0:\n",
    "                    top = self.token[1].popleft()\n",
    "                    self.transfer_token(top)\n",
    "            if data[0] == True and data[1] is not None and data[1][2] == 0:\n",
    "                token = data[1][1]\n",
    "                self.token = token\n",
    "                print(token)\n",
    "            if data[0] == True and data[1] is not None and data[1][2] == 1:\n",
    "                sender = data[1][0]\n",
    "                seq_no = data[1][1]\n",
    "                self.rn[sender] = max(self.rn[sender], seq_no)\n",
    "                if self.token is not None and self.rn[sender] == self.token[0][sender] + 1:\n",
    "                    self.transfer_token(sender)\n",
    "\n",
    "    def request(self):\n",
    "        self.rn[rank] += 1\n",
    "        msg = (rank, self.rn[rank], 1)\n",
    "        for i in range(size):\n",
    "            if i != rank:\n",
    "                comm.send(msg, dest=i)\n",
    "\n",
    "    def transfer_token(self, to):\n",
    "        print(\"sending token from\", rank, \" to\", to, flush=True)\n",
    "        msg = (rank, self.token, 0)\n",
    "        comm.send(msg, dest=to)\n",
    "        self.token = None\n",
    "\n",
    "    def exec_cs(self):\n",
    "        print(\"executing cs for\", rank, flush=True)\n",
    "        update_local_time(local_time)\n",
    "        critical_function()\n",
    "\n",
    "\n",
    "def critical_function(filename1=\"tmp.txt\"):\n",
    "    with open(filename1, \"w+\") as f:\n",
    "        f.write(str(rank))\n",
    "    sleep(2)\n",
    "    with open(filename1, \"r\") as f:\n",
    "        line = f.readline().strip()\n",
    "        if line == \"\" or int(line) != rank:\n",
    "            print(\"\\n\\n\\n******CS FAILED*****\\n\\n\\n\", flush=True)\n",
    "        else:\n",
    "            print(\"CS PASSED\", flush=True)\n",
    "\n",
    "\n",
    "\n",
    "algo = SuzukiKasami()\n",
    "algo.loop_node()\n"
   ]
  },
  {
   "cell_type": "code",
   "execution_count": null,
   "metadata": {},
   "outputs": [],
   "source": []
  }
 ],
 "metadata": {
  "interpreter": {
   "hash": "34280f3e99cdf7b5183810ae50244ddd528a12093561fc5698f1ce0d678e0a37"
  },
  "kernelspec": {
   "display_name": "Python 3.10.0 64-bit",
   "language": "python",
   "name": "python3"
  },
  "language_info": {
   "name": "python",
   "version": "3.10.0"
  },
  "orig_nbformat": 4
 },
 "nbformat": 4,
 "nbformat_minor": 2
}
