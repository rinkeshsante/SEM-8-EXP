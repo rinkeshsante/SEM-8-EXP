{
 "cells": [
  {
   "cell_type": "code",
   "execution_count": 6,
   "metadata": {},
   "outputs": [
    {
     "name": "stdout",
     "output_type": "stream",
     "text": [
      "[client] :  msg 0\n",
      "[server] :  msg 0\n",
      "[client] :  msg 1\n",
      "[server] :  msg 1\n",
      "[client] :  msg 2\n",
      "[server] :  msg 2\n",
      "[client] :  msg 3\n",
      "[server] :  msg 3\n",
      "[client] :  msg 4\n",
      "[server] :  msg 4\n",
      "[server] :  close\n",
      "[client] :  Closing connection ...\n"
     ]
    }
   ],
   "source": [
    "from multiprocessing.connection import Listener, Client\n",
    "from threading import Thread\n",
    "import time\n",
    "address = ('localhost', 6000) \n",
    "\n",
    "\n",
    "def listen():\n",
    "    listener = Listener(address, authkey=b'secret password')\n",
    "    # print(\"Client started..\")\n",
    "    conn = listener.accept()\n",
    "    while True:\n",
    "        msg = conn.recv()\n",
    "        print(\"[server] : \",msg)\n",
    "        if msg == 'close':\n",
    "            conn.send(\"Closing connection ...\")\n",
    "            conn.close()\n",
    "            break\n",
    "    listener.close()\n",
    "\n",
    "time.sleep(2)\n",
    "\n",
    "server_thread = Thread(target = listen)\n",
    "server_thread.start()\n",
    "\n",
    "client = Client(address,authkey=b'secret password')\n",
    "for i in range(5):\n",
    "    print(\"[client] : \",f\"msg {i}\")\n",
    "    client.send(f\"msg {i}\")\n",
    "    time.sleep(1)\n",
    "\n",
    "client.send(\"close\")\n",
    "print(\"[client] : \",client.recv())\n",
    "client.close()\n",
    "\n",
    "\n"
   ]
  },
  {
   "cell_type": "code",
   "execution_count": null,
   "metadata": {},
   "outputs": [],
   "source": []
  }
 ],
 "metadata": {
  "interpreter": {
   "hash": "34280f3e99cdf7b5183810ae50244ddd528a12093561fc5698f1ce0d678e0a37"
  },
  "kernelspec": {
   "display_name": "Python 3.10.0 64-bit",
   "language": "python",
   "name": "python3"
  },
  "language_info": {
   "codemirror_mode": {
    "name": "ipython",
    "version": 3
   },
   "file_extension": ".py",
   "mimetype": "text/x-python",
   "name": "python",
   "nbconvert_exporter": "python",
   "pygments_lexer": "ipython3",
   "version": "3.10.0"
  },
  "orig_nbformat": 4
 },
 "nbformat": 4,
 "nbformat_minor": 2
}
