{
 "cells": [
  {
   "cell_type": "markdown",
   "metadata": {},
   "source": [
    "Page Rank Algorithm"
   ]
  },
  {
   "cell_type": "code",
   "execution_count": 1,
   "metadata": {},
   "outputs": [],
   "source": [
    "# directed graph\n",
    "graph = [[ 0, 1,  0,  1, 1,  0],\n",
    "       [1,  0,  0, 1,  0,  1],\n",
    "       [ 0,  1,  0,  0, 0,  1],\n",
    "       [ 1, 0,  1,  0,  1, 1],\n",
    "       [1,  0, 0,  1,  0,  1],\n",
    "       [ 0,  1,  0, 0,  1,  0]]"
   ]
  },
  {
   "cell_type": "code",
   "execution_count": 2,
   "metadata": {},
   "outputs": [],
   "source": [
    "def PageRank(graph, depth):\n",
    "    n = len(graph)\n",
    "    old_rank = [1/n for _ in range(n)]\n",
    "    new_rank = [*old_rank]\n",
    "    in_degree = [0 for _ in range(n)] \n",
    "\n",
    "    for i in range(n):\n",
    "        for j in range(n):\n",
    "            in_degree[j] += graph[i][j]\n",
    "    \n",
    "    for _ in range(depth):\n",
    "\n",
    "        for i in range(n):\n",
    "            total = 0\n",
    "            for j in range(n):\n",
    "                if graph[j][i] == 1 and in_degree[j] != 0:\n",
    "                    total+= old_rank[j]/in_degree[j]\n",
    "            \n",
    "            new_rank[i] = total\n",
    "    \n",
    "        old_rank = new_rank\n",
    "    \n",
    "    return new_rank\n"
   ]
  },
  {
   "cell_type": "code",
   "execution_count": 3,
   "metadata": {},
   "outputs": [
    {
     "data": {
      "text/plain": [
       "[0.19444444444444445,\n",
       " 0.20370370370370372,\n",
       " 0.05555555555555555,\n",
       " 0.18364197530864199,\n",
       " 0.20936213991769548,\n",
       " 0.2544581618655693]"
      ]
     },
     "execution_count": 3,
     "metadata": {},
     "output_type": "execute_result"
    }
   ],
   "source": [
    "PageRank(graph,2)"
   ]
  }
 ],
 "metadata": {
  "interpreter": {
   "hash": "34280f3e99cdf7b5183810ae50244ddd528a12093561fc5698f1ce0d678e0a37"
  },
  "kernelspec": {
   "display_name": "Python 3.10.0 64-bit",
   "language": "python",
   "name": "python3"
  },
  "language_info": {
   "codemirror_mode": {
    "name": "ipython",
    "version": 3
   },
   "file_extension": ".py",
   "mimetype": "text/x-python",
   "name": "python",
   "nbconvert_exporter": "python",
   "pygments_lexer": "ipython3",
   "version": "3.10.0"
  },
  "orig_nbformat": 4
 },
 "nbformat": 4,
 "nbformat_minor": 2
}
